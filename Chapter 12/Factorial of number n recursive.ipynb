{
 "cells": [
  {
   "cell_type": "code",
   "execution_count": 6,
   "id": "85fa7ecf",
   "metadata": {},
   "outputs": [
    {
     "name": "stdout",
     "output_type": "stream",
     "text": [
      "you have entered: 2\n",
      "value of n is  2\n",
      "factorial of  2 is:  2\n"
     ]
    }
   ],
   "source": [
    "def factorial(n): \n",
    "    if n < 0 :\n",
    "        print(\"enter a non negative number\")\n",
    "        return \n",
    "    if n == 1 or n == 0:\n",
    "        return 1\n",
    "    result = n * factorial(n-1)\n",
    "    print(\"value of n is \", n)\n",
    "    return result\n",
    "\n",
    "\n",
    "\n",
    "# To take input from user..\n",
    "inputNumber = int(input(\"Enter the number\"))\n",
    "print(\"you have entered:\", inputNumber)\n",
    "\n",
    "print(\"factorial of \", inputNumber, \"is: \", factorial(inputNumber))"
   ]
  },
  {
   "cell_type": "code",
   "execution_count": 9,
   "id": "923c6c53",
   "metadata": {},
   "outputs": [
    {
     "name": "stdout",
     "output_type": "stream",
     "text": [
      "10\n",
      "9\n",
      "8\n",
      "7\n",
      "6\n",
      "5\n",
      "4\n",
      "3\n",
      "2\n",
      "1\n",
      "0\n"
     ]
    }
   ],
   "source": [
    "def countdown(n):\n",
    "    if(n <0):\n",
    "        print(\"plz enter non negative number\")\n",
    "        return\n",
    "    if (n==0):\n",
    "        print(0)\n",
    "        return \n",
    "    print(n)\n",
    "    countdown(n-1)\n",
    "\n",
    "\n",
    "\n",
    "n = int(input(\"enter a number\"))\n",
    "countdown(n)"
   ]
  }
 ],
 "metadata": {
  "kernelspec": {
   "display_name": "Python 3",
   "language": "python",
   "name": "python3"
  },
  "language_info": {
   "codemirror_mode": {
    "name": "ipython",
    "version": 3
   },
   "file_extension": ".py",
   "mimetype": "text/x-python",
   "name": "python",
   "nbconvert_exporter": "python",
   "pygments_lexer": "ipython3",
   "version": "3.12.2"
  }
 },
 "nbformat": 4,
 "nbformat_minor": 5
}
