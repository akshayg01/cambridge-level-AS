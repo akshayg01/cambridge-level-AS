{
 "cells": [
  {
   "cell_type": "code",
   "execution_count": null,
   "id": "258190b2",
   "metadata": {},
   "outputs": [
    {
     "name": "stdout",
     "output_type": "stream",
     "text": [
      "you have entered: 5\n",
      "factorial of  5 is:  120\n"
     ]
    }
   ],
   "source": [
    "def factorial(n):\n",
    "    result = 1\n",
    "    while(n>0):\n",
    "        result = result * n\n",
    "        n = n-1\n",
    "    \n",
    "    return result\n",
    "\n",
    "\n",
    "\n",
    "# To take input from user..\n",
    "inputNumber = int(input(\"Enter the number\"))\n",
    "print(\"you have entered:\", inputNumber)\n",
    "if inputNumber < 0 :\n",
    "        print(\"plz enter a non negative number\")\n",
    "\n",
    "print(\"factorial of \", inputNumber, \"is: \", factorial(inputNumber))\n",
    "prin\n",
    "\n",
    "\n",
    "\n"
   ]
  },
  {
   "cell_type": "code",
   "execution_count": null,
   "id": "9e7f9105",
   "metadata": {},
   "outputs": [
    {
     "name": "stdout",
     "output_type": "stream",
     "text": [
      "6\n",
      "5\n",
      "4\n",
      "3\n",
      "2\n",
      "1\n",
      "0\n"
     ]
    }
   ],
   "source": [
    "def countdown(n):\n",
    "    for i in range(n, -1, -1):\n",
    "        print(i)\n",
    "\n",
    "\n",
    "\n",
    "n = int(input(\"enter a number\"))\n",
    "countdown(n)\n",
    "\n"
   ]
  },
  {
   "cell_type": "code",
   "execution_count": null,
   "id": "195e6edf",
   "metadata": {},
   "outputs": [],
   "source": []
  }
 ],
 "metadata": {
  "kernelspec": {
   "display_name": "Python 3",
   "language": "python",
   "name": "python3"
  },
  "language_info": {
   "codemirror_mode": {
    "name": "ipython",
    "version": 3
   },
   "file_extension": ".py",
   "mimetype": "text/x-python",
   "name": "python",
   "nbconvert_exporter": "python",
   "pygments_lexer": "ipython3",
   "version": "3.12.2"
  }
 },
 "nbformat": 4,
 "nbformat_minor": 5
}
