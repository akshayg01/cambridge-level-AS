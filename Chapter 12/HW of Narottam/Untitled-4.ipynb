{
 "cells": [
  {
   "cell_type": "code",
   "execution_count": null,
   "id": "445cc195",
   "metadata": {},
   "outputs": [
    {
     "name": "stdout",
     "output_type": "stream",
     "text": [
      "sum 20\n",
      "2\n"
     ]
    }
   ],
   "source": [
    "def check_digit(num):\n",
    "    result = 0\n",
    "    temp = 0\n",
    "    sum = 0\n",
    "    for weight in range (2 , 11):\n",
    "        temp = num % 10\n",
    "        x = temp * weight\n",
    "        num = int(num / 10) \n",
    "        sum = sum + x\n",
    "\n",
    "    print(\"sum\", sum)\n",
    "    y = sum % 11    \n",
    "    result = 11 - y\n",
    "    return result\n",
    "\n",
    "i = int(input(\"plz enter a digit number\"))\n",
    "print(check_digit(i))\n",
    "\n"
   ]
  },
  {
   "cell_type": "code",
   "execution_count": null,
   "id": "c8517db1",
   "metadata": {},
   "outputs": [],
   "source": []
  }
 ],
 "metadata": {
  "kernelspec": {
   "display_name": "Python 3",
   "language": "python",
   "name": "python3"
  },
  "language_info": {
   "codemirror_mode": {
    "name": "ipython",
    "version": 3
   },
   "file_extension": ".py",
   "mimetype": "text/x-python",
   "name": "python",
   "nbconvert_exporter": "python",
   "pygments_lexer": "ipython3",
   "version": "3.12.2"
  }
 },
 "nbformat": 4,
 "nbformat_minor": 5
}
