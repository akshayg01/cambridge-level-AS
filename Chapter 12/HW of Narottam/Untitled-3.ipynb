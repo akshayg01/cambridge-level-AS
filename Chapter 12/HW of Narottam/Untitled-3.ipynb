{
 "cells": [
  {
   "cell_type": "code",
   "execution_count": 1,
   "id": "d0f2a702",
   "metadata": {},
   "outputs": [
    {
     "name": "stdout",
     "output_type": "stream",
     "text": [
      "25852\n"
     ]
    }
   ],
   "source": [
    "print(int(258525/10))"
   ]
  },
  {
   "cell_type": "code",
   "execution_count": null,
   "id": "bb1443b6",
   "metadata": {},
   "outputs": [
    {
     "name": "stdout",
     "output_type": "stream",
     "text": [
      "5\n"
     ]
    }
   ],
   "source": [
    "print(int(25852 % 10))"
   ]
  },
  {
   "cell_type": "code",
   "execution_count": 10,
   "id": "a125971d",
   "metadata": {},
   "outputs": [
    {
     "name": "stdout",
     "output_type": "stream",
     "text": [
      "Last Digit:  6\n",
      "weight 2\n",
      "temp 31234589\n",
      "Last Digit:  9\n",
      "weight 3\n",
      "temp 3123458\n",
      "Last Digit:  8\n",
      "weight 4\n",
      "temp 312345\n",
      "Last Digit:  5\n",
      "weight 5\n",
      "temp 31234\n",
      "Last Digit:  4\n",
      "weight 6\n",
      "temp 3123\n",
      "Last Digit:  3\n",
      "weight 7\n",
      "temp 312\n",
      "Last Digit:  2\n",
      "weight 8\n",
      "temp 31\n",
      "Last Digit:  1\n",
      "weight 9\n",
      "temp 3\n",
      "Last Digit:  3\n",
      "weight 10\n",
      "temp 0\n",
      "sum is: 196\n"
     ]
    }
   ],
   "source": [
    "num = 312345896\n",
    "result = 0\n",
    "sum = 0\n",
    "temp = num\n",
    "for weight in range(2,11):\n",
    "    # print(weight)\n",
    "    last_digit = temp % 10\n",
    "    print(\"Last Digit: \", last_digit)\n",
    "    print(\"weight\", weight)\n",
    "    sum = sum + last_digit * weight\n",
    "    temp = int(temp / 10)\n",
    "    print(\"temp\", temp)\n",
    "\n",
    "print(\"sum is:\", sum)\n",
    "\n"
   ]
  }
 ],
 "metadata": {
  "kernelspec": {
   "display_name": "Python 3",
   "language": "python",
   "name": "python3"
  },
  "language_info": {
   "codemirror_mode": {
    "name": "ipython",
    "version": 3
   },
   "file_extension": ".py",
   "mimetype": "text/x-python",
   "name": "python",
   "nbconvert_exporter": "python",
   "pygments_lexer": "ipython3",
   "version": "3.12.2"
  }
 },
 "nbformat": 4,
 "nbformat_minor": 5
}
