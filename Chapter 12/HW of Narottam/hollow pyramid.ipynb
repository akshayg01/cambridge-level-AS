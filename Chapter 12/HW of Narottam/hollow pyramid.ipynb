{
 "cells": [
  {
   "cell_type": "code",
   "execution_count": null,
   "id": "9e18f91e",
   "metadata": {},
   "outputs": [
    {
     "name": "stdout",
     "output_type": "stream",
     "text": [
      "     A  \n",
      "    A  \n",
      "   A  \n",
      "  A  \n",
      " A  \n"
     ]
    }
   ],
   "source": [
    "pyramid_height = int(input(\"enter height of pyramid\"))\n",
    "space = \" \"\n",
    "symbol = \"A\"\n",
    "number_of_symbols = 1\n",
    "number_of_spaces = pyramid_height - 1\n",
    "number_of_lines_left = pyramid_height\n",
    "line_number = 1\n",
    "\n",
    "while(number_of_lines_left > 0) :\n",
    "    print(space*number_of_spaces , symbol , space, symbol)\n",
    "    number_of_symbols = number_of_symbols + 2\n",
    "    number_of_spaces = number_of_spaces - 1\n",
    "    number_of_lines_left = number_of_lines_left -1\n",
    "    line_number = line_number + 1"
   ]
  }
 ],
 "metadata": {
  "kernelspec": {
   "display_name": "Python 3",
   "language": "python",
   "name": "python3"
  },
  "language_info": {
   "codemirror_mode": {
    "name": "ipython",
    "version": 3
   },
   "file_extension": ".py",
   "mimetype": "text/x-python",
   "name": "python",
   "nbconvert_exporter": "python",
   "pygments_lexer": "ipython3",
   "version": "3.12.2"
  }
 },
 "nbformat": 4,
 "nbformat_minor": 5
}
