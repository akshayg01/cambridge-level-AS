{
 "cells": [
  {
   "cell_type": "code",
   "execution_count": 24,
   "id": "9e18f91e",
   "metadata": {},
   "outputs": [
    {
     "name": "stdout",
     "output_type": "stream",
     "text": [
      "           A\n",
      "          A  A\n",
      "         A    A\n",
      "        A      A\n",
      "       A        A\n",
      "      A          A\n",
      "     A            A\n",
      "    A              A\n",
      "   A                A\n",
      "  AAAAAAAAAAAAAAAAAAAA\n"
     ]
    }
   ],
   "source": [
    "pyramid_height = int(input(\"Enter height of pyramid\"))\n",
    "space = \" \"\n",
    "symbol = \"A\"\n",
    "number_of_symbols = 1\n",
    "number_of_spaces = pyramid_height+1\n",
    "number_of_spaces_inside = 0\n",
    "number_of_lines_left = pyramid_height\n",
    "\n",
    "\n",
    "while(number_of_lines_left > 0) :\n",
    "    if(number_of_lines_left == pyramid_height):\n",
    "        print(space*number_of_spaces,symbol, sep=\"\")\n",
    "    elif(number_of_lines_left == 1):\n",
    "        print(space*number_of_spaces , symbol , symbol*number_of_spaces_inside, symbol, sep=\"\")\n",
    "    else:\n",
    "        print(space*number_of_spaces , symbol , space*number_of_spaces_inside, symbol, sep=\"\")\n",
    "\n",
    "    number_of_symbols = number_of_symbols + 2\n",
    "    number_of_spaces = number_of_spaces - 1\n",
    "    number_of_spaces_inside +=2\n",
    "\n",
    "    number_of_lines_left = number_of_lines_left -1"
   ]
  },
  {
   "cell_type": "code",
   "execution_count": 15,
   "id": "f300ae55",
   "metadata": {},
   "outputs": [
    {
     "name": "stdout",
     "output_type": "stream",
     "text": [
      "KKKKKasdf\n",
      "K\n"
     ]
    }
   ],
   "source": [
    "pyramid_height = 5\n",
    "space = \"B\"\n",
    "symbol = \"K\"\n",
    "number_of_symbols = 1\n",
    "number_of_spaces = pyramid_height - 1\n",
    "number_of_spaces_inside = 0\n",
    "number_of_lines_left = pyramid_height\n",
    "\n",
    "print(\"K\"*5, \"asdf\", sep=\"\")\n",
    "print(symbol)"
   ]
  }
 ],
 "metadata": {
  "kernelspec": {
   "display_name": "Python 3",
   "language": "python",
   "name": "python3"
  },
  "language_info": {
   "codemirror_mode": {
    "name": "ipython",
    "version": 3
   },
   "file_extension": ".py",
   "mimetype": "text/x-python",
   "name": "python",
   "nbconvert_exporter": "python",
   "pygments_lexer": "ipython3",
   "version": "3.12.2"
  }
 },
 "nbformat": 4,
 "nbformat_minor": 5
}
