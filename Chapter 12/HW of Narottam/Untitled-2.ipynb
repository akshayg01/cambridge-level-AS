{
 "cells": [
  {
   "cell_type": "code",
   "execution_count": null,
   "id": "d2b5ab9d",
   "metadata": {},
   "outputs": [
    {
     "name": "stdout",
     "output_type": "stream",
     "text": [
      "1\n",
      "Your books is added.\n",
      "1\n",
      "Your books is added.\n",
      "1\n",
      "Your books is added.\n",
      "2\n",
      "Number of books in your collection 3\n",
      "3\n",
      "Books in reverse order ['Chemistry', 'Physics', 'CS Python']\n"
     ]
    }
   ],
   "source": [
    "books_stack = []\n",
    "while 1==1 :\n",
    "    option = int(input(\"Enter option\"))\n",
    "    print(option)\n",
    "    if option == 1:\n",
    "        bookName = input(\"Enter Book Name\")\n",
    "        books_stack.append(bookName)\n",
    "        print(\"Your books is added.\")\n",
    "    elif option == 2:\n",
    "        print(\"Number of books in your collection\", len(books_stack))\n",
    "    elif option == 3:\n",
    "        books_stack.reverse()\n",
    "        print(\"Books in reverse order\",books_stack)\n",
    "        \n",
    "        "
   ]
  }
 ],
 "metadata": {
  "kernelspec": {
   "display_name": "Python 3",
   "language": "python",
   "name": "python3"
  },
  "language_info": {
   "codemirror_mode": {
    "name": "ipython",
    "version": 3
   },
   "file_extension": ".py",
   "mimetype": "text/x-python",
   "name": "python",
   "nbconvert_exporter": "python",
   "pygments_lexer": "ipython3",
   "version": "3.12.2"
  }
 },
 "nbformat": 4,
 "nbformat_minor": 5
}
