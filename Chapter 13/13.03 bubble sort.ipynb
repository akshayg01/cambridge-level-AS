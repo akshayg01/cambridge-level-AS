{
 "cells": [
  {
   "cell_type": "code",
   "execution_count": 8,
   "id": "ed4b32de",
   "metadata": {},
   "outputs": [
    {
     "name": "stdout",
     "output_type": "stream",
     "text": [
      "value of x 0\n",
      "[9, 10, 5, 4, 7, 8, 2, 11]\n",
      "[9, 5, 10, 4, 7, 8, 2, 11]\n",
      "[9, 5, 4, 10, 7, 8, 2, 11]\n",
      "[9, 5, 4, 7, 10, 8, 2, 11]\n",
      "[9, 5, 4, 7, 8, 10, 2, 11]\n",
      "[9, 5, 4, 7, 8, 2, 10, 11]\n",
      "[9, 5, 4, 7, 8, 2, 10, 11]\n",
      "after the for loop\n",
      "[9, 5, 4, 7, 8, 2, 10, 11]\n",
      "value of x 1\n",
      "[5, 9, 4, 7, 8, 2, 10, 11]\n",
      "[5, 4, 9, 7, 8, 2, 10, 11]\n",
      "[5, 4, 7, 9, 8, 2, 10, 11]\n",
      "[5, 4, 7, 8, 9, 2, 10, 11]\n",
      "[5, 4, 7, 8, 2, 9, 10, 11]\n",
      "[5, 4, 7, 8, 2, 9, 10, 11]\n",
      "after the for loop\n",
      "[5, 4, 7, 8, 2, 9, 10, 11]\n",
      "value of x 2\n",
      "[4, 5, 7, 8, 2, 9, 10, 11]\n",
      "[4, 5, 7, 8, 2, 9, 10, 11]\n",
      "[4, 5, 7, 8, 2, 9, 10, 11]\n",
      "[4, 5, 7, 2, 8, 9, 10, 11]\n",
      "[4, 5, 7, 2, 8, 9, 10, 11]\n",
      "after the for loop\n",
      "[4, 5, 7, 2, 8, 9, 10, 11]\n",
      "value of x 3\n",
      "[4, 5, 7, 2, 8, 9, 10, 11]\n",
      "[4, 5, 7, 2, 8, 9, 10, 11]\n",
      "[4, 5, 2, 7, 8, 9, 10, 11]\n",
      "[4, 5, 2, 7, 8, 9, 10, 11]\n",
      "after the for loop\n",
      "[4, 5, 2, 7, 8, 9, 10, 11]\n",
      "value of x 4\n",
      "[4, 5, 2, 7, 8, 9, 10, 11]\n",
      "[4, 2, 5, 7, 8, 9, 10, 11]\n",
      "[4, 2, 5, 7, 8, 9, 10, 11]\n",
      "after the for loop\n",
      "[4, 2, 5, 7, 8, 9, 10, 11]\n",
      "value of x 5\n",
      "[2, 4, 5, 7, 8, 9, 10, 11]\n",
      "[2, 4, 5, 7, 8, 9, 10, 11]\n",
      "after the for loop\n",
      "[2, 4, 5, 7, 8, 9, 10, 11]\n",
      "value of x 6\n",
      "[2, 4, 5, 7, 8, 9, 10, 11]\n",
      "after the for loop\n",
      "[2, 4, 5, 7, 8, 9, 10, 11]\n",
      "[2, 4, 5, 7, 8, 9, 10, 11]\n"
     ]
    }
   ],
   "source": [
    "nums = [10,9,5,4,7,8,2,11]\n",
    "\n",
    "for x in range(len(nums)-1):\n",
    "    print(\"value of x\", x)\n",
    "    for y in range(len(nums)-1-x):\n",
    "        index = y+1\n",
    "        if nums[y] > nums[index]:\n",
    "            nums[y], nums[index] = nums[index], nums[y]\n",
    "        print(nums)\n",
    "    print(\"after the for loop\")\n",
    "    print(nums)\n",
    "\n",
    "print(nums)\n"
   ]
  }
 ],
 "metadata": {
  "kernelspec": {
   "display_name": "Python 3",
   "language": "python",
   "name": "python3"
  },
  "language_info": {
   "codemirror_mode": {
    "name": "ipython",
    "version": 3
   },
   "file_extension": ".py",
   "mimetype": "text/x-python",
   "name": "python",
   "nbconvert_exporter": "python",
   "pygments_lexer": "ipython3",
   "version": "3.12.2"
  }
 },
 "nbformat": 4,
 "nbformat_minor": 5
}
