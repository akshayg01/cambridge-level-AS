{
 "cells": [
  {
   "cell_type": "code",
   "execution_count": 5,
   "id": "bd973157",
   "metadata": {},
   "outputs": [
    {
     "name": "stdout",
     "output_type": "stream",
     "text": [
      "checking the number 5\n",
      "Yes number exists in the list\n"
     ]
    }
   ],
   "source": [
    "nums = [5,5,6,56,2,6,26,26,3,6,6,8,4,2,38,5,852]\n",
    "\n",
    "#Take a number as input. Search for this number in an existing 1D array\n",
    "\n",
    "number_entered = int(input(\"enter a number to search\"))\n",
    "\n",
    "found = False\n",
    "for i in range(0, len(nums)):\n",
    "    print(\"checking the number\", nums[i])\n",
    "    if(nums[i] == number_entered ):\n",
    "        found = True\n",
    "        break\n",
    "\n",
    "\n",
    "if(found):    \n",
    "    print(\"Yes number exists in the list\")\n",
    "else:\n",
    "    print(\"No, number does not exist in the list\")"
   ]
  },
  {
   "cell_type": "code",
   "execution_count": 6,
   "id": "a6c2526d",
   "metadata": {},
   "outputs": [
    {
     "name": "stdout",
     "output_type": "stream",
     "text": [
      "checking the number 5\n",
      "checking the number 5\n",
      "checking the number 6\n",
      "checking the number 56\n",
      "checking the number 2\n",
      "checking the number 6\n",
      "checking the number 26\n",
      "checking the number 26\n",
      "checking the number 3\n",
      "checking the number 6\n",
      "checking the number 6\n",
      "checking the number 8\n",
      "checking the number 4\n",
      "checking the number 2\n",
      "checking the number 38\n",
      "checking the number 5\n",
      "checking the number 852\n",
      "No, number does not exist in the list\n"
     ]
    }
   ],
   "source": [
    "nums = [5,5,6,56,2,6,26,26,3,6,6,8,4,2,38,5,852]\n",
    "\n",
    "#Take a number as input. Search for this number in an existing 1D array\n",
    "\n",
    "number_entered = int(input(\"enter a number to search\"))\n",
    "\n",
    "found = False\n",
    "for x in nums:\n",
    "    print(\"checking the number\", x)\n",
    "    if(x == number_entered ):\n",
    "        found = True\n",
    "        break\n",
    "\n",
    "\n",
    "if(found):    \n",
    "    print(\"Yes number exists in the list\")\n",
    "else:\n",
    "    print(\"No, number does not exist in the list\")"
   ]
  },
  {
   "cell_type": "code",
   "execution_count": 7,
   "id": "e4ed53b4",
   "metadata": {},
   "outputs": [
    {
     "name": "stdout",
     "output_type": "stream",
     "text": [
      "checking the number 5\n",
      "checking the number 5\n",
      "checking the number 6\n",
      "checking the number 56\n",
      "checking the number 2\n",
      "checking the number 6\n",
      "checking the number 26\n",
      "checking the number 26\n",
      "checking the number 3\n",
      "checking the number 6\n",
      "checking the number 6\n",
      "checking the number 8\n",
      "checking the number 4\n",
      "checking the number 2\n",
      "checking the number 38\n",
      "checking the number 5\n",
      "checking the number 852\n",
      "Yes number exists in the list 3\n"
     ]
    }
   ],
   "source": [
    "nums = [5,5,6,56,2,6,26,26,3,6,6,8,4,2,38,5,852]\n",
    "\n",
    "#Take a number as input. Search for this number in an existing 1D array and number of appearance in the list of that number\n",
    "\n",
    "number_entered = int(input(\"enter a number to search\"))\n",
    "\n",
    "found = False\n",
    "count = 0 \n",
    "for x in nums:\n",
    "    print(\"checking the number\", x)\n",
    "    if(x == number_entered ):\n",
    "        found = True\n",
    "        count +=1\n",
    "\n",
    "\n",
    "if(found):    \n",
    "    print(\"Yes number exists in the list\", count)\n",
    "else:\n",
    "    print(\"No, number does not exist in the list\")\n"
   ]
  },
  {
   "cell_type": "code",
   "execution_count": null,
   "id": "8ec17f12",
   "metadata": {},
   "outputs": [
    {
     "name": "stdout",
     "output_type": "stream",
     "text": [
      "120\n"
     ]
    },
    {
     "ename": "",
     "evalue": "",
     "output_type": "error",
     "traceback": [
      "\u001b[1;31mThe Kernel crashed while executing code in the current cell or a previous cell. \n",
      "\u001b[1;31mPlease review the code in the cell(s) to identify a possible cause of the failure. \n",
      "\u001b[1;31mClick <a href='https://aka.ms/vscodeJupyterKernelCrash'>here</a> for more info. \n",
      "\u001b[1;31mView Jupyter <a href='command:jupyter.viewOutput'>log</a> for further details."
     ]
    }
   ],
   "source": [
    "import math\n",
    "print(math.factorial(5))"
   ]
  },
  {
   "cell_type": "code",
   "execution_count": null,
   "id": "36673746",
   "metadata": {},
   "outputs": [],
   "source": [
    "5*4*3*2*1"
   ]
  }
 ],
 "metadata": {
  "kernelspec": {
   "display_name": "Python 3",
   "language": "python",
   "name": "python3"
  },
  "language_info": {
   "codemirror_mode": {
    "name": "ipython",
    "version": 3
   },
   "file_extension": ".py",
   "mimetype": "text/x-python",
   "name": "python",
   "nbconvert_exporter": "python",
   "pygments_lexer": "ipython3",
   "version": "3.12.2"
  }
 },
 "nbformat": 4,
 "nbformat_minor": 5
}
