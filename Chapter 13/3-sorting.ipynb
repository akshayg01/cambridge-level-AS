{
 "cells": [
  {
   "cell_type": "code",
   "execution_count": null,
   "id": "294b47dc",
   "metadata": {},
   "outputs": [
    {
     "name": "stdout",
     "output_type": "stream",
     "text": [
      "Smallest Item is: 2\n"
     ]
    }
   ],
   "source": [
    "nums = [11,5,6,4,2,9,10,8,16]\n",
    "sortNums = []\n",
    "smallest_number = nums[0]\n",
    "x = 0\n",
    "for index in range(1,len(nums)):\n",
    "    if (nums[index]< smallest_number):\n",
    "        smallest_number = nums[index]\n",
    "\n",
    "print(\"Smallest Item is:\", smallest_number)\n",
    "sortNums[x] = smallest_number\n",
    "x = x + 1\n"
   ]
  },
  {
   "cell_type": "code",
   "execution_count": 3,
   "id": "b1dd8b13",
   "metadata": {},
   "outputs": [
    {
     "name": "stdout",
     "output_type": "stream",
     "text": [
      "Smallest Item is: 2 its index is  4\n",
      "Smallest Item is: 4 its index is  3\n",
      "Smallest Item is: 5 its index is  3\n",
      "Smallest Item is: 6 its index is  3\n",
      "Smallest Item is: 8 its index is  7\n",
      "Smallest Item is: 9 its index is  5\n",
      "Smallest Item is: 10 its index is  6\n",
      "Smallest Item is: 11 its index is  7\n",
      "Smallest Item is: 16 its index is  8\n",
      "[2, 4, 5, 6, 8, 9, 10, 11, 16]\n"
     ]
    }
   ],
   "source": [
    "nums = [11,5,6,4,2,9,10,8,16]\n",
    "\n",
    "smallest_number = nums[0]\n",
    "\n",
    "\n",
    "\n",
    "for index in range(0,len(nums)):\n",
    "    index_of_smallest_item = index\n",
    "    smallest_number = nums[index]\n",
    "\n",
    "    for x in range(index+1, len(nums)):\n",
    "        if (nums[x] < smallest_number):\n",
    "            smallest_number = nums[x]\n",
    "            index_of_smallest_item = x\n",
    "    \n",
    "    print(\"Smallest Item is:\", smallest_number , \"its index is \", index_of_smallest_item)\n",
    "    nums[index] , nums[index_of_smallest_item] = nums[index_of_smallest_item], nums[index]\n",
    "\n",
    "print(nums)"
   ]
  },
  {
   "cell_type": "code",
   "execution_count": null,
   "id": "0025ed49",
   "metadata": {},
   "outputs": [],
   "source": [
    "# HW -- write bubble sort program... 08 Oct 2025\n",
    "\n"
   ]
  }
 ],
 "metadata": {
  "kernelspec": {
   "display_name": "Python 3",
   "language": "python",
   "name": "python3"
  },
  "language_info": {
   "codemirror_mode": {
    "name": "ipython",
    "version": 3
   },
   "file_extension": ".py",
   "mimetype": "text/x-python",
   "name": "python",
   "nbconvert_exporter": "python",
   "pygments_lexer": "ipython3",
   "version": "3.12.2"
  }
 },
 "nbformat": 4,
 "nbformat_minor": 5
}
