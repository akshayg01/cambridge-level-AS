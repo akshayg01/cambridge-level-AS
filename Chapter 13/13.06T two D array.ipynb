{
 "cells": [
  {
   "cell_type": "code",
   "execution_count": 1,
   "id": "ae231c41",
   "metadata": {},
   "outputs": [
    {
     "name": "stdout",
     "output_type": "stream",
     "text": [
      "[['', '', ''], ['', '', ''], ['', '', '']]\n"
     ]
    }
   ],
   "source": [
    "\n",
    "\n",
    "game = []\n",
    "\n",
    "\n",
    "for x in range(3):\n",
    "    game.append([])\n",
    "    for y in range(3):\n",
    "        game[x].append(\"\")\n",
    "\n",
    "\n",
    "print (game)\n"
   ]
  },
  {
   "cell_type": "code",
   "execution_count": 2,
   "id": "3a7745b2",
   "metadata": {},
   "outputs": [
    {
     "ename": "ValueError",
     "evalue": "invalid literal for int() with base 10: ''",
     "output_type": "error",
     "traceback": [
      "\u001b[1;31m---------------------------------------------------------------------------\u001b[0m",
      "\u001b[1;31mValueError\u001b[0m                                Traceback (most recent call last)",
      "Cell \u001b[1;32mIn[2], line 1\u001b[0m\n\u001b[1;32m----> 1\u001b[0m rows\u001b[38;5;241m=\u001b[39m \u001b[38;5;28;43mint\u001b[39;49m\u001b[43m(\u001b[49m\u001b[38;5;28;43minput\u001b[39;49m\u001b[43m(\u001b[49m\u001b[38;5;124;43m\"\u001b[39;49m\u001b[38;5;124;43menter number or rows\u001b[39;49m\u001b[38;5;124;43m\"\u001b[39;49m\u001b[43m)\u001b[49m\u001b[43m)\u001b[49m\n\u001b[0;32m      2\u001b[0m cols\u001b[38;5;241m=\u001b[39m \u001b[38;5;28mint\u001b[39m(\u001b[38;5;28minput\u001b[39m(\u001b[38;5;124m\"\u001b[39m\u001b[38;5;124menter number or columns\u001b[39m\u001b[38;5;124m\"\u001b[39m))\n\u001b[0;32m      6\u001b[0m game \u001b[38;5;241m=\u001b[39m []\n",
      "\u001b[1;31mValueError\u001b[0m: invalid literal for int() with base 10: ''"
     ]
    }
   ],
   "source": [
    "rows= int(input(\"enter number or rows\"))\n",
    "cols= int(input(\"enter number or columns\"))\n",
    "\n",
    "\n",
    "\n",
    "game = []\n",
    "\n",
    "# for x in range(rows):\n",
    "#     game.append([])\n",
    "\n",
    "# print(game)\n",
    "\n",
    "\n",
    "\n",
    "for x in range(rows):\n",
    "    game.append([])\n",
    "    for y in range(cols):\n",
    "        game[x].append(\"x\")\n",
    "\n",
    "#print(game)\n",
    "\n",
    "game[5][2] = \"0\"\n",
    "\n",
    "\n",
    "for i in range(len(game)):\n",
    "    for j in range(len(game[i])):\n",
    "        print(game[i][j], end=\" \")\n",
    "    print(\"\\n\")\n",
    "\n",
    "\n",
    "# for x in range(rows):\n",
    "#     for y in range(cols):\n",
    "#         print(game[x][y])\n",
    "\n"
   ]
  }
 ],
 "metadata": {
  "kernelspec": {
   "display_name": "Python 3",
   "language": "python",
   "name": "python3"
  },
  "language_info": {
   "codemirror_mode": {
    "name": "ipython",
    "version": 3
   },
   "file_extension": ".py",
   "mimetype": "text/x-python",
   "name": "python",
   "nbconvert_exporter": "python",
   "pygments_lexer": "ipython3",
   "version": "3.12.2"
  }
 },
 "nbformat": 4,
 "nbformat_minor": 5
}
