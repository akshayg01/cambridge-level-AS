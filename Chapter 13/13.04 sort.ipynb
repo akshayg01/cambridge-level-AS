{
 "cells": [
  {
   "cell_type": "code",
   "execution_count": null,
   "id": "ed4b32de",
   "metadata": {},
   "outputs": [
    {
     "name": "stdout",
     "output_type": "stream",
     "text": [
      "[5, 8, 2, 3, 1]\n",
      "[8, 5, 3, 2, 1]\n",
      "[8, 5, 3, 2, 1]\n",
      "[8, 5, 3, 2, 1]\n"
     ]
    }
   ],
   "source": [
    "\n",
    "nums = []\n",
    "\n",
    "count = int(input(\"How many number do you want to enter\"))\n",
    "\n",
    "for i in range(count):\n",
    "   nums.append(int( input(\"Enter the Number\" ) ))\n",
    "\n",
    "\n",
    "for x in range(len(nums)-1):\n",
    "    for y in range(len(nums)-1-x):\n",
    "        index = y+1\n",
    "        if nums[y] < nums[index]:\n",
    "            nums[y], nums[index] = nums[index], nums[y]\n",
    "            \n",
    "    print(nums)\n",
    "\n"
   ]
  },
  {
   "cell_type": "code",
   "execution_count": 16,
   "id": "a3fa4ae1",
   "metadata": {},
   "outputs": [
    {
     "name": "stdout",
     "output_type": "stream",
     "text": [
      "0\n",
      "2\n",
      "4\n",
      "6\n",
      "8\n",
      "10\n",
      "12\n",
      "14\n",
      "16\n",
      "18\n"
     ]
    }
   ],
   "source": [
    "start = 0\n",
    "stop = 20\n",
    "\n",
    "def print_even_numbers(start, stop):\n",
    "    for i in range(start, stop):\n",
    "        if i % 2 == 0 :\n",
    "            print(i)\n",
    "\n",
    "print_even_numbers( start, stop)\n",
    "\n",
    "        "
   ]
  },
  {
   "cell_type": "code",
   "execution_count": 14,
   "id": "64b540ea",
   "metadata": {},
   "outputs": [
    {
     "name": "stdout",
     "output_type": "stream",
     "text": [
      "True\n"
     ]
    }
   ],
   "source": [
    "sum = 0\n",
    "print(sum == 0 )"
   ]
  }
 ],
 "metadata": {
  "kernelspec": {
   "display_name": "Python 3",
   "language": "python",
   "name": "python3"
  },
  "language_info": {
   "codemirror_mode": {
    "name": "ipython",
    "version": 3
   },
   "file_extension": ".py",
   "mimetype": "text/x-python",
   "name": "python",
   "nbconvert_exporter": "python",
   "pygments_lexer": "ipython3",
   "version": "3.12.2"
  }
 },
 "nbformat": 4,
 "nbformat_minor": 5
}
