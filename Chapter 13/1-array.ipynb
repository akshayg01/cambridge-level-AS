{
 "cells": [
  {
   "cell_type": "code",
   "execution_count": null,
   "id": "d684fe07",
   "metadata": {},
   "outputs": [
    {
     "name": "stdout",
     "output_type": "stream",
     "text": [
      "I am going to learn array\n",
      "<class 'str'>\n",
      "<class 'int'>\n"
     ]
    }
   ],
   "source": [
    "print(\"I am going to learn array\")\n",
    "\n",
    "# Array..\n",
    "# \n",
    "# \n",
    "\n",
    "#Dynamic Typed language.. \n",
    "# we don't need to tell the type of variable, when we asign value to varible, it will take the type.. \n",
    "# \n",
    "# \n",
    "\n",
    "first_name = \"Narottam\"\n",
    "print(type(first_name))\n",
    "first_name = 1\n",
    "print(type(first_name))\n",
    "\n",
    "\n"
   ]
  },
  {
   "cell_type": "code",
   "execution_count": 7,
   "id": "c6c32baf",
   "metadata": {},
   "outputs": [
    {
     "name": "stdout",
     "output_type": "stream",
     "text": [
      "Raghav\n",
      "12\n",
      "Shyam\n",
      "15\n",
      "Madhav\n",
      "14\n",
      "Govinda\n",
      "13\n"
     ]
    }
   ],
   "source": [
    "#Define two arrays, one for your friends’ names and \n",
    "# one for their ages as shown in Figure 13.02.\n",
    "\n",
    "friends = [\"Ram\", \"Shyam\",\"Madhav\", \"Govinda\"]\n",
    "list_of_age = [12,15,14,13]\n",
    "\n",
    "friends[0] = \"Raghav\"\n",
    "for i in range(len(friends)):\n",
    "    print(friends[i])\n",
    "    print(list_of_age[i])\n",
    "\n"
   ]
  },
  {
   "cell_type": "code",
   "execution_count": null,
   "id": "eff4cebb",
   "metadata": {},
   "outputs": [
    {
     "name": "stdout",
     "output_type": "stream",
     "text": [
      "name is on the list\n",
      "15\n"
     ]
    }
   ],
   "source": [
    "#Use the algorithm in Worked Example 13.02 as a design pattern. Write an algorithm using the\n",
    "#arrays from Task 13.03 to search for a friend’s name 'Shyam' and output their age.\n",
    "\n",
    "\n",
    "friends = [\"Ram\", \"Shyam\",\"Madhav\", \"Govinda\"]\n",
    "list_of_age = [12,15,14,13]\n",
    "friend_looking_for = input(\"enter name to search\")\n",
    "\n",
    "\n",
    "found = False\n",
    "for i in range(len(friends)):\n",
    "    if(friends[i].upper() == friend_looking_for.upper() ):\n",
    "        found = True\n",
    "        print(\"name is on the list\")\n",
    "        print(list_of_age[i])\n",
    "        break\n",
    "\n",
    "if(not found):\n",
    "    print(\"name not found\")\n"
   ]
  },
  {
   "cell_type": "code",
   "execution_count": null,
   "id": "3b2798ef",
   "metadata": {},
   "outputs": [],
   "source": []
  },
  {
   "cell_type": "code",
   "execution_count": null,
   "id": "72dd7db0",
   "metadata": {},
   "outputs": [],
   "source": []
  }
 ],
 "metadata": {
  "kernelspec": {
   "display_name": "Python 3",
   "language": "python",
   "name": "python3"
  },
  "language_info": {
   "codemirror_mode": {
    "name": "ipython",
    "version": 3
   },
   "file_extension": ".py",
   "mimetype": "text/x-python",
   "name": "python",
   "nbconvert_exporter": "python",
   "pygments_lexer": "ipython3",
   "version": "3.12.2"
  }
 },
 "nbformat": 4,
 "nbformat_minor": 5
}
